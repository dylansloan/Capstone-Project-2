{
 "cells": [
  {
   "cell_type": "code",
   "execution_count": 1,
   "metadata": {},
   "outputs": [],
   "source": [
    "# Import Libraries\n",
    "import pandas as pd\n",
    "from datetime import datetime"
   ]
  },
  {
   "cell_type": "code",
   "execution_count": 2,
   "metadata": {},
   "outputs": [],
   "source": [
    "# Importing Netflix Dataset\n",
    "# This is only a dataset of movies/tvs available on Netflix as of year end 2019\n",
    "# This does NOT include any type of reviews or ratings\n",
    "#\n",
    "# neflix -- 12 Columns & 5,837 Rows\n",
    "\n",
    "netflix_titles_2019 = pd.read_csv('netflix_titles_nov_2019.csv')\n",
    "#netflix_titles_2019"
   ]
  },
  {
   "cell_type": "code",
   "execution_count": 3,
   "metadata": {},
   "outputs": [
    {
     "name": "stdout",
     "output_type": "stream",
     "text": [
      "Stored 'netflix_titles_2019' (DataFrame)\n"
     ]
    }
   ],
   "source": [
    "# Storing Netflix Dataset\n",
    "%store netflix_titles_2019"
   ]
  },
  {
   "cell_type": "code",
   "execution_count": 2,
   "metadata": {},
   "outputs": [],
   "source": [
    "# Importing FilmTV Dataset\n",
    "# This dataset is similar to the Netflix in that it does NOT include any review or ratings\n",
    "# \n",
    "# filmtv_movies -- 12 Columsn & 53,497 Rows\n",
    "\n",
    "filmtv_movies = pd.read_csv('filmtv_movies - ENG.csv')\n",
    "filmtv_movies = filmtv_movies.fillna(0)\n",
    "#filmtv_movies"
   ]
  },
  {
   "cell_type": "code",
   "execution_count": 3,
   "metadata": {},
   "outputs": [
    {
     "name": "stdout",
     "output_type": "stream",
     "text": [
      "Stored 'filmtv_movies' (DataFrame)\n"
     ]
    }
   ],
   "source": [
    "# Storing FilmTV Dataset\n",
    "%store filmtv_movies"
   ]
  },
  {
   "cell_type": "code",
   "execution_count": 6,
   "metadata": {},
   "outputs": [],
   "source": [
    "# Importing & Merging Rotten Tomatoes Datasets\n",
    "# Rotten Tomatoes Dataset Info\n",
    "# rotten_toms_movies -- 23 Columns & 16,638 Rows\n",
    "#\n",
    "# rotten_toms_reviews -- 7 Columns & 930,942 Rows\n",
    "#\n",
    "# rotten_tomatoes -- 26 Columns & 930,986 Rows\n",
    "### Where does the 44 additional rows of data come from compared to the 16,638 rows found in the rotten_toms_movies dataset?\n",
    "\n",
    "rotten_toms_movies = pd.read_csv('rotten_tomatoes_movies.csv')\n",
    "\n",
    "rotten_toms_reviews = pd.read_csv('rotten_tomatoes_reviews.csv')\n",
    "\n",
    "rotten_tomatoes = rotten_toms_movies.merge(rotten_toms_reviews, how='left', on='rotten_tomatoes_link')\n",
    "rotten_tomatoes = rotten_tomatoes.drop(['poster_image_url', 'critic_publication', 'critics_consensus'], axis=1)\n",
    "rotten_tomatoes = rotten_tomatoes.fillna(0)"
   ]
  },
  {
   "cell_type": "code",
   "execution_count": 7,
   "metadata": {},
   "outputs": [
    {
     "name": "stdout",
     "output_type": "stream",
     "text": [
      "Stored 'rotten_tomatoes' (DataFrame)\n"
     ]
    }
   ],
   "source": [
    "# Storing Rotten Tomatoes Dataset\n",
    "%store rotten_tomatoes"
   ]
  },
  {
   "cell_type": "code",
   "execution_count": 8,
   "metadata": {},
   "outputs": [],
   "source": [
    "# Importing & Merging Datasets\n",
    "# IMDb Dataset Info\n",
    "# imdb_movies -- 22 Columns & 81,273 Rows\n",
    "# \n",
    "# imdb_ratings -- 49 Columns & 81,273 Rows\n",
    "# \n",
    "# imdb_combined -- 70 Columns & 81,273 Rows\n",
    "\n",
    "imdb_movies = pd.read_csv('IMDb movies.csv')\n",
    "\n",
    "imdb_ratings = pd.read_csv('IMDb ratings.csv')\n",
    "\n",
    "imdb = imdb_movies.merge(imdb_ratings, how='left', on='imdb_title_id')\n",
    "imdb = imdb.fillna(0)"
   ]
  },
  {
   "cell_type": "code",
   "execution_count": 9,
   "metadata": {},
   "outputs": [
    {
     "name": "stdout",
     "output_type": "stream",
     "text": [
      "Stored 'imdb' (DataFrame)\n"
     ]
    }
   ],
   "source": [
    "# Storing IMDb Dataset\n",
    "%store imdb"
   ]
  },
  {
   "cell_type": "code",
   "execution_count": 10,
   "metadata": {},
   "outputs": [],
   "source": [
    "# Importing & Merging Datasets\n",
    "# MovieLens Data\n",
    "# movielens_movies -- 3 Columns & 10,681 Rows\n",
    "#\n",
    "# movielens_tags -- 4 Columns & 95,580 Rows\n",
    "#\n",
    "# movielens_ratings -- 4 Columns & 1,000,0054 Rows\n",
    "\n",
    "movielens_movies = pd.read_table('movies.dat', names=['MovieID','Title','Genres'], sep='::', engine='python')\n",
    "#movielens_movies\n",
    "\n",
    "movielens_tags = pd.read_table('tags.dat', names=['UserID','MovieID','Tag','Timestamp'], sep='::', engine='python')\n",
    "movielens_tags = movielens_tags.drop(['Timestamp'], axis=1)\n",
    "#movielens_tags.head()\n",
    "\n",
    "movielens_ratings = pd.read_table('ratings.dat', sep='::', engine='python', names=['UserID','MovieID','Rating','Timestamp'])\n",
    "movielens_ratings['Timestamp'] = pd.to_datetime(movielens_ratings['Timestamp'], unit='s', origin='unix')\n",
    "\n",
    "movielens_combined_1 = movielens_tags.merge(movielens_ratings, how='right', on=['UserID','MovieID'], copy=False)\n",
    "#movielens_combined_1.head()\n",
    "\n",
    "movielens = movielens_combined_1.merge(movielens_movies, how='left', on='MovieID', copy=False)\n",
    "#movielens_combined.head()\n",
    "\n",
    "cols = ['MovieID','Title','Genres','UserID','Tag','Rating','Timestamp']\n",
    "movielens = movielens.reindex(columns=cols)\n",
    "movielens = movielens.fillna(0)\n",
    "#movielens.head()"
   ]
  },
  {
   "cell_type": "code",
   "execution_count": 11,
   "metadata": {},
   "outputs": [
    {
     "name": "stdout",
     "output_type": "stream",
     "text": [
      "Stored 'movielens' (DataFrame)\n"
     ]
    }
   ],
   "source": [
    "# Storing MovieLens Dataset\n",
    "%store movielens"
   ]
  },
  {
   "cell_type": "code",
   "execution_count": null,
   "metadata": {},
   "outputs": [],
   "source": []
  }
 ],
 "metadata": {
  "kernelspec": {
   "display_name": "Python 3",
   "language": "python",
   "name": "python3"
  },
  "language_info": {
   "codemirror_mode": {
    "name": "ipython",
    "version": 3
   },
   "file_extension": ".py",
   "mimetype": "text/x-python",
   "name": "python",
   "nbconvert_exporter": "python",
   "pygments_lexer": "ipython3",
   "version": "3.6.5"
  }
 },
 "nbformat": 4,
 "nbformat_minor": 2
}
